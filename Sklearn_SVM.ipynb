{
 "cells": [
  {
   "cell_type": "code",
   "execution_count": 8,
   "metadata": {
    "collapsed": true,
    "pycharm": {
     "name": "#%%\n"
    }
   },
   "outputs": [],
   "source": [
    "from sklearn.datasets import load_iris\n",
    "import numpy as np\n",
    "from sklearn.model_selection import train_test_split\n",
    "from sklearn import svm\n",
    "from sklearn.metrics import accuracy_score"
   ]
  },
  {
   "cell_type": "code",
   "execution_count": 7,
   "outputs": [
    {
     "data": {
      "text/plain": "((150, 4), (150,))"
     },
     "execution_count": 7,
     "metadata": {},
     "output_type": "execute_result"
    }
   ],
   "source": [
    "iris=load_iris()\n",
    "X=iris.data\n",
    "classes=['Iris Setosa','Iris Versicolour','Iris Virginica']\n",
    "y=iris.target\n",
    "X.shape,y.shape"
   ],
   "metadata": {
    "collapsed": false,
    "pycharm": {
     "name": "#%%\n"
    }
   }
  },
  {
   "cell_type": "code",
   "execution_count": 38,
   "outputs": [],
   "source": [
    "x_train,x_test,y_train,y_test=train_test_split(X,y,train_size=.3)"
   ],
   "metadata": {
    "collapsed": false,
    "pycharm": {
     "name": "#%%\n"
    }
   }
  },
  {
   "cell_type": "code",
   "execution_count": 39,
   "outputs": [
    {
     "name": "stdout",
     "output_type": "stream",
     "text": [
      "SVC()\n"
     ]
    }
   ],
   "source": [
    "model=svm.SVC()\n",
    "model.fit(x_train,y_train)\n",
    "print(model)"
   ],
   "metadata": {
    "collapsed": false,
    "pycharm": {
     "name": "#%%\n"
    }
   }
  },
  {
   "cell_type": "code",
   "execution_count": 41,
   "outputs": [
    {
     "name": "stdout",
     "output_type": "stream",
     "text": [
      "prediction [2 1 0 2 2 1 0 2 2 1 0 0 0 0 2 2 2 1 0 1 2 2 1 2 1 0 2 1 1 0 0 2 0 1 0 1 2\n",
      " 2 1 0 0 2 2 2 0 0 0 2 2 2 1 0 0 0 0 0 2 1 1 1 2 0 0 1 1 1 0 1 1 1 0 0 0 1\n",
      " 1 2 2 1 0 1 0 2 1 1 2 1 2 2 1 1 0 0 1 1 0 1 1 1 2 2 1 1 0 0 0]\n",
      "Actual values : [2 1 0 2 2 1 0 2 2 1 0 0 0 0 2 2 2 1 0 1 1 2 1 2 2 0 2 1 1 0 0 2 0 1 0 1 2\n",
      " 2 1 0 0 2 2 2 0 0 0 2 2 2 1 0 0 0 0 0 2 2 1 2 2 0 0 1 1 1 0 1 1 1 0 0 0 1\n",
      " 1 2 2 1 0 1 0 2 2 1 2 1 2 2 1 2 0 0 2 1 0 1 1 1 2 2 1 1 0 0 0]\n",
      "Accuracy 0.9333333333333333\n"
     ]
    }
   ],
   "source": [
    "prediction=model.predict(x_test)\n",
    "accuracy=accuracy_score(y_test,prediction)\n",
    "\n",
    "print('prediction',prediction)\n",
    "print('Actual values :',y_test)\n",
    "print('Accuracy',accuracy)"
   ],
   "metadata": {
    "collapsed": false,
    "pycharm": {
     "name": "#%%\n"
    }
   }
  },
  {
   "cell_type": "code",
   "execution_count": 42,
   "outputs": [
    {
     "name": "stdout",
     "output_type": "stream",
     "text": [
      "Iris Virginica\n",
      "Iris Versicolour\n",
      "Iris Setosa\n",
      "Iris Virginica\n",
      "Iris Virginica\n",
      "Iris Versicolour\n",
      "Iris Setosa\n",
      "Iris Virginica\n",
      "Iris Virginica\n",
      "Iris Versicolour\n",
      "Iris Setosa\n",
      "Iris Setosa\n",
      "Iris Setosa\n",
      "Iris Setosa\n",
      "Iris Virginica\n",
      "Iris Virginica\n",
      "Iris Virginica\n",
      "Iris Versicolour\n",
      "Iris Setosa\n",
      "Iris Versicolour\n",
      "Iris Virginica\n",
      "Iris Virginica\n",
      "Iris Versicolour\n",
      "Iris Virginica\n",
      "Iris Versicolour\n",
      "Iris Setosa\n",
      "Iris Virginica\n",
      "Iris Versicolour\n",
      "Iris Versicolour\n",
      "Iris Setosa\n",
      "Iris Setosa\n",
      "Iris Virginica\n",
      "Iris Setosa\n",
      "Iris Versicolour\n",
      "Iris Setosa\n",
      "Iris Versicolour\n",
      "Iris Virginica\n",
      "Iris Virginica\n",
      "Iris Versicolour\n",
      "Iris Setosa\n",
      "Iris Setosa\n",
      "Iris Virginica\n",
      "Iris Virginica\n",
      "Iris Virginica\n",
      "Iris Setosa\n",
      "Iris Setosa\n",
      "Iris Setosa\n",
      "Iris Virginica\n",
      "Iris Virginica\n",
      "Iris Virginica\n",
      "Iris Versicolour\n",
      "Iris Setosa\n",
      "Iris Setosa\n",
      "Iris Setosa\n",
      "Iris Setosa\n",
      "Iris Setosa\n",
      "Iris Virginica\n",
      "Iris Versicolour\n",
      "Iris Versicolour\n",
      "Iris Versicolour\n",
      "Iris Virginica\n",
      "Iris Setosa\n",
      "Iris Setosa\n",
      "Iris Versicolour\n",
      "Iris Versicolour\n",
      "Iris Versicolour\n",
      "Iris Setosa\n",
      "Iris Versicolour\n",
      "Iris Versicolour\n",
      "Iris Versicolour\n",
      "Iris Setosa\n",
      "Iris Setosa\n",
      "Iris Setosa\n",
      "Iris Versicolour\n",
      "Iris Versicolour\n",
      "Iris Virginica\n",
      "Iris Virginica\n",
      "Iris Versicolour\n",
      "Iris Setosa\n",
      "Iris Versicolour\n",
      "Iris Setosa\n",
      "Iris Virginica\n",
      "Iris Versicolour\n",
      "Iris Versicolour\n",
      "Iris Virginica\n",
      "Iris Versicolour\n",
      "Iris Virginica\n",
      "Iris Virginica\n",
      "Iris Versicolour\n",
      "Iris Versicolour\n",
      "Iris Setosa\n",
      "Iris Setosa\n",
      "Iris Versicolour\n",
      "Iris Versicolour\n",
      "Iris Setosa\n",
      "Iris Versicolour\n",
      "Iris Versicolour\n",
      "Iris Versicolour\n",
      "Iris Virginica\n",
      "Iris Virginica\n",
      "Iris Versicolour\n",
      "Iris Versicolour\n",
      "Iris Setosa\n",
      "Iris Setosa\n",
      "Iris Setosa\n"
     ]
    }
   ],
   "source": [
    "for i in range(prediction.shape[0]):\n",
    "    print(classes[prediction[i]])"
   ],
   "metadata": {
    "collapsed": false,
    "pycharm": {
     "name": "#%%\n"
    }
   }
  },
  {
   "cell_type": "code",
   "execution_count": null,
   "outputs": [],
   "source": [],
   "metadata": {
    "collapsed": false,
    "pycharm": {
     "name": "#%%\n"
    }
   }
  }
 ],
 "metadata": {
  "kernelspec": {
   "display_name": "Python 3",
   "language": "python",
   "name": "python3"
  },
  "language_info": {
   "codemirror_mode": {
    "name": "ipython",
    "version": 2
   },
   "file_extension": ".py",
   "mimetype": "text/x-python",
   "name": "python",
   "nbconvert_exporter": "python",
   "pygments_lexer": "ipython2",
   "version": "2.7.6"
  }
 },
 "nbformat": 4,
 "nbformat_minor": 0
}